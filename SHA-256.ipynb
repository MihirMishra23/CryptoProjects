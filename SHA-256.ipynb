{
 "cells": [
  {
   "cell_type": "code",
   "execution_count": 14,
   "id": "ba259787",
   "metadata": {},
   "outputs": [
    {
     "name": "stdout",
     "output_type": "stream",
     "text": [
      "45\n",
      "70\n",
      "115\n",
      "\n",
      "0b1011\n",
      "0b1010101 0b11110000\n",
      "0b10101011111\n",
      "3\n",
      "\n",
      "0b10000101000101000101111100110001\n"
     ]
    },
    {
     "data": {
      "text/plain": [
       "['01101000',\n",
       " '01100101',\n",
       " '01101100',\n",
       " '01101100',\n",
       " '01101111',\n",
       " '00100000',\n",
       " '01110111',\n",
       " '01101111',\n",
       " '01110010',\n",
       " '01101100',\n",
       " '01100100']"
      ]
     },
     "execution_count": 14,
     "metadata": {},
     "output_type": "execute_result"
    }
   ],
   "source": [
    "b1 = 0b0101101\n",
    "b2 = 0b1000110\n",
    "print(b1)\n",
    "print(b2)\n",
    "print(b1 + b2)\n",
    "print()\n",
    "print(bin(0b1011 | 0b0000000000))\n",
    "\n",
    "first = 0b01010101\n",
    "second = 0b11110000\n",
    "print(bin(first), bin(second))\n",
    "res = (first<<4) | (second>>4)\n",
    "print(bin(res))\n",
    "print(len(str(bin(0b00000000))))\n",
    "print()\n",
    "x = \"10000101000101000101111100110001\"\n",
    "print(bin(int(x, 2)))\n",
    "x = 'hello world'\n",
    "[format(ord(i), '08b') for i in x]"
   ]
  },
  {
   "cell_type": "code",
   "execution_count": 2,
   "id": "d4785542",
   "metadata": {},
   "outputs": [],
   "source": [
    "def print_bits(lst: list, numcols=8):\n",
    "    for i in range(0, len(lst)):\n",
    "        if i%numcols != numcols-1 or i == 0:\n",
    "            print(lst[i], end=\" \")\n",
    "        else:\n",
    "            print(lst[i])\n",
    "    print()\n",
    "        "
   ]
  },
  {
   "cell_type": "code",
   "execution_count": 3,
   "id": "5ee51c52",
   "metadata": {},
   "outputs": [],
   "source": [
    "def return_round_constants() -> list:\n",
    "    k = []\n",
    "    k.extend(\"0x428a2f98 0x71374491 0xb5c0fbcf 0xe9b5dba5 0x3956c25b 0x59f111f1 0x923f82a4 0xab1c5ed5\".split())\n",
    "    k.extend(\"0xd807aa98 0x12835b01 0x243185be 0x550c7dc3 0x72be5d74 0x80deb1fe 0x9bdc06a7 0xc19bf174\".split())\n",
    "    k.extend(\"0xe49b69c1 0xefbe4786 0x0fc19dc6 0x240ca1cc 0x2de92c6f 0x4a7484aa 0x5cb0a9dc 0x76f988da\".split())\n",
    "    k.extend(\"0x983e5152 0xa831c66d 0xb00327c8 0xbf597fc7 0xc6e00bf3 0xd5a79147 0x06ca6351 0x14292967\".split())\n",
    "    k.extend(\"0x27b70a85 0x2e1b2138 0x4d2c6dfc 0x53380d13 0x650a7354 0x766a0abb 0x81c2c92e 0x92722c85\".split())\n",
    "    k.extend(\"0xa2bfe8a1 0xa81a664b 0xc24b8b70 0xc76c51a3 0xd192e819 0xd6990624 0xf40e3585 0x106aa070\".split())\n",
    "    k.extend(\"0x19a4c116 0x1e376c08 0x2748774c 0x34b0bcb5 0x391c0cb3 0x4ed8aa4a 0x5b9cca4f 0x682e6ff3\".split())\n",
    "    k.extend(\"0x748f82ee 0x78a5636f 0x84c87814 0x8cc70208 0x90befffa 0xa4506ceb 0xbef9a3f7 0xc67178f2\".split())\n",
    "    return k"
   ]
  },
  {
   "cell_type": "code",
   "execution_count": 4,
   "id": "e0cf3260",
   "metadata": {},
   "outputs": [
    {
     "name": "stdout",
     "output_type": "stream",
     "text": [
      "0b10100111\n",
      "0b1010011\n",
      "0b101001\n",
      "0b10100\n",
      "0b1010\n",
      "0b101\n",
      "0b10\n",
      "0b1\n"
     ]
    }
   ],
   "source": [
    "def shift_right(bits, num_shift: int):\n",
    "    return bits >> num_shift\n",
    "    '''bits = '0'* num_shift + bits\n",
    "    bits = bits[0:len(bits)-num_shift]\n",
    "    return bits'''\n",
    "\n",
    "for i in range(8):\n",
    "    print(bin(shift_right(0b10100111, i)))"
   ]
  },
  {
   "cell_type": "code",
   "execution_count": 5,
   "id": "cc2fa4aa",
   "metadata": {},
   "outputs": [
    {
     "name": "stdout",
     "output_type": "stream",
     "text": [
      "0b10100011\n",
      "0b11010001\n",
      "0b11101000\n",
      "0b1110100\n",
      "0b111010\n",
      "0b11101\n",
      "0b10001110\n",
      "0b1000111\n",
      "0b10100011\n"
     ]
    }
   ],
   "source": [
    "def rotate_right(bits, num_rotate: int, num_bits: int):\n",
    "    return (2**num_bits-1)&(bits>>num_rotate|bits<<(num_bits-num_rotate))#(bits >> num_rotate)|(bits << (num_bits - num_rotate)) & 0xFFFFFFFF\n",
    "    #return bits[len(bits)-num_rotate:] + bits[:len(bits)-num_rotate]\n",
    "\n",
    "for i in range(9):\n",
    "    print(bin(rotate_right(0b10100011, i, 8)))"
   ]
  },
  {
   "cell_type": "code",
   "execution_count": 19,
   "id": "a2a8be01",
   "metadata": {},
   "outputs": [
    {
     "name": "stdout",
     "output_type": "stream",
     "text": [
      "01101000 01100101 01101100 01101100 01101111 00100000 01110111 01101111\n",
      "01110010 01101100 01100100 10000000 00000000 00000000 00000000 00000000\n",
      "00000000 00000000 00000000 00000000 00000000 00000000 00000000 00000000\n",
      "00000000 00000000 00000000 00000000 00000000 00000000 00000000 00000000\n",
      "00000000 00000000 00000000 00000000 00000000 00000000 00000000 00000000\n",
      "00000000 00000000 00000000 00000000 00000000 00000000 00000000 00000000\n",
      "00000000 00000000 00000000 00000000 00000000 00000000 00000000 00000000\n",
      "00000000 00000000 00000000 00000000 00000000 00000000 00000000 01011000\n",
      "\n",
      "1751477356 1864398703\n",
      "1919706240 0\n",
      "0 0\n",
      "0 0\n",
      "0 0\n",
      "0 0\n",
      "0 0\n",
      "0 88\n",
      "0 0\n",
      "0 0\n",
      "0 0\n",
      "0 0\n",
      "0 0\n",
      "0 0\n",
      "0 0\n",
      "0 0\n",
      "0 0\n",
      "0 0\n",
      "0 0\n",
      "0 0\n",
      "0 0\n",
      "0 0\n",
      "0 0\n",
      "0 0\n",
      "0 0\n",
      "0 0\n",
      "0 0\n",
      "0 0\n",
      "0 0\n",
      "0 0\n",
      "0 0\n",
      "0 0\n",
      "\n",
      "<class 'int'>\n",
      "0b11011110110111100100000011101110\n",
      "0b11001110111000011001010111001011\n",
      "0b0\n",
      "5222367799\n"
     ]
    }
   ],
   "source": [
    "def sha256(entry: str):\n",
    "    #converts to binary string\n",
    "    #entry = list(map(bin,bytearray(entry, encoding='utf8')))\n",
    "    entry = [format(ord(i), '08b') for i in entry]\n",
    "    entry = \"\".join(entry)\n",
    "    \n",
    "    #pre-processes binary input\n",
    "    end = bin(len(entry))[2:]\n",
    "    entry += \"1\"\n",
    "    entry += \"0\"*(512-len(entry)-len(end))\n",
    "    entry += end\n",
    "    entry = [entry[x:x+8] for x in range(0, len(entry), 8)]\n",
    "    print_bits(entry)\n",
    "    \n",
    "    #initialize hash values\n",
    "    h0 = 0x6a09e667\n",
    "    h1 = 0xbb67ae85\n",
    "    h2 = 0x3c6ef372\n",
    "    h3 = 0xa54ff53a\n",
    "    h4 = 0x510e527f\n",
    "    h5 = 0x9b05688c\n",
    "    h6 = 0x1f83d9ab\n",
    "    h7 = 0x5be0cd19\n",
    "    \n",
    "    #initialize round constants\n",
    "    k = return_round_constants()\n",
    "    \n",
    "    #create message schedule\n",
    "    message = [\"\".join(entry[i:i+4]) for i in range(0, len(entry), 4)]\n",
    "    message.extend([\"0\"*32]*48)\n",
    "    for i in range(len(message)):\n",
    "        message[i] = int(message[i], 2)\n",
    "    print_bits(message, 2)\n",
    "    \n",
    "    #for i in range(16, len(message)):\n",
    "    i=16\n",
    "    s0 = rotate_right(message[i-15], 7, 32) ^ rotate_right(message[i-15], 18, 32) ^ shift_right(message[i-15], 3)\n",
    "    s1 = rotate_right(message[i-2], 17, 32) ^ rotate_right(message[i-2], 19, 32) ^ shift_right(message[i-2], 10)\n",
    "    message[i] = message[i-16] + s0 + message[i-7] + s1\n",
    "    \n",
    "    print(bin(s0))\n",
    "    print(bin(s1))\n",
    "    print(message[i])\n",
    "    \n",
    "sha256(\"hello world\")"
   ]
  }
 ],
 "metadata": {
  "kernelspec": {
   "display_name": "Python 3 (ipykernel)",
   "language": "python",
   "name": "python3"
  },
  "language_info": {
   "codemirror_mode": {
    "name": "ipython",
    "version": 3
   },
   "file_extension": ".py",
   "mimetype": "text/x-python",
   "name": "python",
   "nbconvert_exporter": "python",
   "pygments_lexer": "ipython3",
   "version": "3.9.7"
  }
 },
 "nbformat": 4,
 "nbformat_minor": 5
}
