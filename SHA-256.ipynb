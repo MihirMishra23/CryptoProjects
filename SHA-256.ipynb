{
 "cells": [
  {
   "cell_type": "code",
   "execution_count": 2,
   "id": "37ce237a",
   "metadata": {},
   "outputs": [],
   "source": [
    "def print_bits(lst: list, numcols=8):\n",
    "    for i in range(0, len(lst)):\n",
    "        if i%numcols != numcols-1 or i == 0:\n",
    "            print(lst[i], end=\" \")\n",
    "        else:\n",
    "            print(lst[i])\n",
    "    print()\n",
    "        "
   ]
  },
  {
   "cell_type": "code",
   "execution_count": 3,
   "id": "7405adf0",
   "metadata": {},
   "outputs": [],
   "source": [
    "def return_round_constants() -> list:\n",
    "    k = []\n",
    "    k.extend(\"0x428a2f98 0x71374491 0xb5c0fbcf 0xe9b5dba5 0x3956c25b 0x59f111f1 0x923f82a4 0xab1c5ed5\".split())\n",
    "    k.extend(\"0xd807aa98 0x12835b01 0x243185be 0x550c7dc3 0x72be5d74 0x80deb1fe 0x9bdc06a7 0xc19bf174\".split())\n",
    "    k.extend(\"0xe49b69c1 0xefbe4786 0x0fc19dc6 0x240ca1cc 0x2de92c6f 0x4a7484aa 0x5cb0a9dc 0x76f988da\".split())\n",
    "    k.extend(\"0x983e5152 0xa831c66d 0xb00327c8 0xbf597fc7 0xc6e00bf3 0xd5a79147 0x06ca6351 0x14292967\".split())\n",
    "    k.extend(\"0x27b70a85 0x2e1b2138 0x4d2c6dfc 0x53380d13 0x650a7354 0x766a0abb 0x81c2c92e 0x92722c85\".split())\n",
    "    k.extend(\"0xa2bfe8a1 0xa81a664b 0xc24b8b70 0xc76c51a3 0xd192e819 0xd6990624 0xf40e3585 0x106aa070\".split())\n",
    "    k.extend(\"0x19a4c116 0x1e376c08 0x2748774c 0x34b0bcb5 0x391c0cb3 0x4ed8aa4a 0x5b9cca4f 0x682e6ff3\".split())\n",
    "    k.extend(\"0x748f82ee 0x78a5636f 0x84c87814 0x8cc70208 0x90befffa 0xa4506ceb 0xbef9a3f7 0xc67178f2\".split())\n",
    "    return k"
   ]
  },
  {
   "cell_type": "code",
   "execution_count": 4,
   "id": "88d9a772",
   "metadata": {},
   "outputs": [
    {
     "name": "stdout",
     "output_type": "stream",
     "text": [
      "0b10100111\n",
      "0b1010011\n",
      "0b101001\n",
      "0b10100\n",
      "0b1010\n",
      "0b101\n",
      "0b10\n",
      "0b1\n"
     ]
    }
   ],
   "source": [
    "def shift_right(bits, num_shift: int):\n",
    "    return bits >> num_shift\n",
    "    '''bits = '0'* num_shift + bits\n",
    "    bits = bits[0:len(bits)-num_shift]\n",
    "    return bits'''\n",
    "\n",
    "for i in range(8):\n",
    "    print(bin(shift_right(0b10100111, i)))"
   ]
  },
  {
   "cell_type": "code",
   "execution_count": 5,
   "id": "2ac6e18c",
   "metadata": {},
   "outputs": [
    {
     "name": "stdout",
     "output_type": "stream",
     "text": [
      "0b10100011\n",
      "0b11010001\n",
      "0b11101000\n",
      "0b1110100\n",
      "0b111010\n",
      "0b11101\n",
      "0b10001110\n",
      "0b1000111\n",
      "0b10100011\n"
     ]
    }
   ],
   "source": [
    "def rotate_right(bits, num_rotate: int, num_bits: int):\n",
    "    return (2**num_bits-1)&(bits>>num_rotate|bits<<(num_bits-num_rotate))#(bits >> num_rotate)|(bits << (num_bits - num_rotate)) & 0xFFFFFFFF\n",
    "    #return bits[len(bits)-num_rotate:] + bits[:len(bits)-num_rotate]\n",
    "\n",
    "for i in range(9):\n",
    "    print(bin(rotate_right(0b10100011, i, 8)))"
   ]
  },
  {
   "cell_type": "code",
   "execution_count": 70,
   "id": "e9818f27",
   "metadata": {},
   "outputs": [
    {
     "name": "stdout",
     "output_type": "stream",
     "text": [
      "01101000 01100101 01101100 01101100 01101111 00100000 01110111 01101111\n",
      "01110010 01101100 01100100 10000000 00000000 00000000 00000000 00000000\n",
      "00000000 00000000 00000000 00000000 00000000 00000000 00000000 00000000\n",
      "00000000 00000000 00000000 00000000 00000000 00000000 00000000 00000000\n",
      "00000000 00000000 00000000 00000000 00000000 00000000 00000000 00000000\n",
      "00000000 00000000 00000000 00000000 00000000 00000000 00000000 00000000\n",
      "00000000 00000000 00000000 00000000 00000000 00000000 00000000 00000000\n",
      "00000000 00000000 00000000 00000000 00000000 00000000 00000000 01011000\n",
      "\n",
      "0b1101000011001010110110001101100 0b1101111001000000111011101101111\n",
      "0b1110010011011000110010010000000 0b0\n",
      "0b0 0b0\n",
      "0b0 0b0\n",
      "0b0 0b0\n",
      "0b0 0b0\n",
      "0b0 0b0\n",
      "0b0 0b1011000\n",
      "0b110111010001110000001000110111 0b110110100001100000000110001\n",
      "0b1010011101111010001000100001011 0b1111000000111110001011110000010\n",
      "0b101010101100000010110011101101 0b1101001001011110111010011001001\n",
      "0b10011111000011001110001011101 0b1100001011101101010010100110\n",
      "0b100011100101001010000011100 0b100100000011101110100110010\n",
      "0b10000101010111011010110010100 0b1111111111011101000111110010100\n",
      "0b10101101011000001010101110110 0b101010000010001110100000000110\n",
      "0b1000100010101010111100000010111 0b10101100001111000101010000110\n",
      "0b100001101111010011011110011001 0b100100001001010010110001000010\n",
      "0b1011110111101101011111100011011 0b10101101000111011110000111101\n",
      "0b11111111110000111100000111000 0b110110011011011110000110110101\n",
      "0b1010101001110100001110100110110 0b11000010011110110100101111001\n",
      "0b1001100101100010100001010111 0b100010111110111111100110100\n",
      "0b1111100010110011000010101011010 0b1011100001001111111110100110110\n",
      "0b1110001010001111110010101000011 0b1111000011101011100011010001011\n",
      "0b1010110111101001110010000100110 0b1110110001110110001011000010101\n",
      "0b1100000011110110111101001000011 0b11100111110100011100111011011\n",
      "0b100101001000001111010011010100 0b1010000100011000110110011110101\n",
      "0b10010001101000100011100111010 0b101010100100111000100111111001\n",
      "0b100010010110110010111110000110 0b1010011110010000010001111110100\n",
      "0b1010000000110011111010111101110 0b11001001101011110001001010100\n",
      "0b101001101101011111111000010110 0b101101010111011011011001100111\n",
      "0b1000100111110111011100100010000 0b1000001111111111101101101010\n",
      "0b111000001001100110010110000110 0b11101100011101001100010001011\n",
      "\n"
     ]
    }
   ],
   "source": [
    "def sha256(entry: str):\n",
    "    #converts to binary string\n",
    "    #entry = list(map(bin,bytearray(entry, encoding='utf8')))\n",
    "    entry = [format(ord(i), '08b') for i in entry]\n",
    "    entry = \"\".join(entry)\n",
    "    \n",
    "    #pre-processes binary input\n",
    "    end = bin(len(entry))[2:]\n",
    "    entry += \"1\"\n",
    "    entry += \"0\"*(512-len(entry)-len(end))\n",
    "    entry += end\n",
    "    entry = [entry[x:x+8] for x in range(0, len(entry), 8)]\n",
    "    print_bits(entry)\n",
    "    \n",
    "    #initialize hash values\n",
    "    h0 = 0x6a09e667\n",
    "    h1 = 0xbb67ae85\n",
    "    h2 = 0x3c6ef372\n",
    "    h3 = 0xa54ff53a\n",
    "    h4 = 0x510e527f\n",
    "    h5 = 0x9b05688c\n",
    "    h6 = 0x1f83d9ab\n",
    "    h7 = 0x5be0cd19\n",
    "    \n",
    "    #initialize round constants\n",
    "    k = return_round_constants()\n",
    "    \n",
    "    #create message schedule\n",
    "    message = [\"\".join(entry[i:i+4]) for i in range(0, len(entry), 4)]\n",
    "    message.extend([\"0\"*32]*48)\n",
    "    for i in range(len(message)):\n",
    "        message[i] = int(message[i], 2)\n",
    "    #print_bits(message, 2)\n",
    "    \n",
    "    for i in range(16, len(message)):\n",
    "        s0 = rotate_right(message[i-15], 7, 32) ^ rotate_right(message[i-15], 18, 32) ^ shift_right(message[i-15], 3)\n",
    "        s1 = rotate_right(message[i-2], 17, 32) ^ rotate_right(message[i-2], 19, 32) ^ shift_right(message[i-2], 10)\n",
    "        message[i] = bitwise_modulo(message[i-16] + s0 + message[i-7] + s1, 32)\n",
    "    \n",
    "    print_bits([bin(n) for n in message], 2)\n",
    "    \n",
    "sha256(\"hello world\")"
   ]
  },
  {
   "cell_type": "code",
   "execution_count": 88,
   "id": "a0f316f9",
   "metadata": {},
   "outputs": [
    {
     "name": "stdout",
     "output_type": "stream",
     "text": [
      "0b100110111010001110000001000110111\n",
      "0b10000100001000101001100011101\n",
      "0b10000100001000101001100011101\n",
      "32\n",
      "4\n"
     ]
    }
   ],
   "source": [
    "def bitwise_modulo(bits, mod_num):\n",
    "    while len(bin(bits))-2 > mod_num:\n",
    "        bits -= 2**(len(bin(bits))-3)\n",
    "    return bits\n",
    "w0 = 0b01101000011001010110110001101100\n",
    "w9 = 0b0\n",
    "s0 = 0b11001110111000011001010111001011\n",
    "s1 = 0b0\n",
    "print(bin(w0 + s0 + w9 + s1))\n",
    "print(bin(bitwise_modulo(0b11011100010000100001000101001100011101, 32)))\n",
    "print(bin(0b00010000100001000101001100011101))\n",
    "print(len(bin(0b00110111010001110000001000110111)))\n",
    "print(len(bin(0b00011)))"
   ]
  },
  {
   "cell_type": "code",
   "execution_count": 28,
   "id": "437684f3",
   "metadata": {},
   "outputs": [
    {
     "name": "stdout",
     "output_type": "stream",
     "text": [
      "0b100110111010001110000001000110111\n",
      "0b110111010001110000001000110111\n",
      "0b1010101 0b11110000\n",
      "0b10101011111\n",
      "3\n",
      "\n",
      "0b10000101000101000101111100110001\n"
     ]
    }
   ],
   "source": [
    "first = 0b01010101\n",
    "second = 0b11110000\n",
    "print(bin(first), bin(second))\n",
    "res = (first<<4) | (second>>4)\n",
    "print(bin(res))\n",
    "print(len(str(bin(0b00000000))))\n",
    "print()\n",
    "x = \"0b10000101000101000101111100110001\"\n",
    "print(bin(int(x, 2)))"
   ]
  }
 ],
 "metadata": {
  "kernelspec": {
   "display_name": "Python 3 (ipykernel)",
   "language": "python",
   "name": "python3"
  },
  "language_info": {
   "codemirror_mode": {
    "name": "ipython",
    "version": 3
   },
   "file_extension": ".py",
   "mimetype": "text/x-python",
   "name": "python",
   "nbconvert_exporter": "python",
   "pygments_lexer": "ipython3",
   "version": "3.9.7"
  }
 },
 "nbformat": 4,
 "nbformat_minor": 5
}
